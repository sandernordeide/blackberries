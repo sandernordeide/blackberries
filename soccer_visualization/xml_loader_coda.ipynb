{
 "metadata": {
  "language_info": {
   "codemirror_mode": {
    "name": "ipython",
    "version": 3
   },
   "file_extension": ".py",
   "mimetype": "text/x-python",
   "name": "python",
   "nbconvert_exporter": "python",
   "pygments_lexer": "ipython3",
   "version": "3.8.5-final"
  },
  "orig_nbformat": 2,
  "kernelspec": {
   "name": "python3",
   "display_name": "Python 3.8.5 64-bit ('base': conda)",
   "metadata": {
    "interpreter": {
     "hash": "dc29262a3853e138755d8637206b97e88be71ee59192c8190ae84b8562e6bf64"
    }
   }
  }
 },
 "nbformat": 4,
 "nbformat_minor": 2,
 "cells": [
  {
   "cell_type": "code",
   "execution_count": 1,
   "metadata": {},
   "outputs": [],
   "source": [
    "import xml.etree.ElementTree as ET\n",
    "import xmltodict\n",
    "import json\n",
    "import pandas as pd"
   ]
  },
  {
   "cell_type": "code",
   "execution_count": 3,
   "metadata": {},
   "outputs": [],
   "source": [
    "paths = [\n",
    "        '/Users/sandernordeide/Documents/Sander pasning.xml'\n",
    "         ]\n",
    "         \n",
    "dicts = []\n",
    "for path in paths:\n",
    "    tree = ET.parse(path)\n",
    "    xml_data = tree.getroot()\n",
    "    xmlstr = ET.tostring(xml_data, encoding='utf-8', method='xml')\n",
    "    dicts.append(dict(xmltodict.parse(xmlstr)))\n",
    "    "
   ]
  },
  {
   "cell_type": "code",
   "execution_count": 4,
   "metadata": {},
   "outputs": [
    {
     "output_type": "execute_result",
     "data": {
      "text/plain": [
       "['/Users/sandernordeide/Documents/Sander pasning.xml']"
      ]
     },
     "metadata": {},
     "execution_count": 4
    }
   ],
   "source": [
    "paths"
   ]
  },
  {
   "cell_type": "code",
   "execution_count": 20,
   "metadata": {},
   "outputs": [
    {
     "output_type": "execute_result",
     "data": {
      "text/plain": [
       "OrderedDict([('instance',\n",
       "              [OrderedDict([('ID', '1'),\n",
       "                            ('start', '5.13'),\n",
       "                            ('end', '9.44'),\n",
       "                            ('code', 'Pasning'),\n",
       "                            ('label', OrderedDict([('text', 'Inn i 16')]))]),\n",
       "               OrderedDict([('ID', '2'),\n",
       "                            ('start', '11.69'),\n",
       "                            ('end', '18.47'),\n",
       "                            ('code', 'Pasning'),\n",
       "                            ('label',\n",
       "                             [OrderedDict([('text', 'Framover')]),\n",
       "                              OrderedDict([('text', 'Bakover')]),\n",
       "                              OrderedDict([('text', 'Inn i 16')])])])])])"
      ]
     },
     "metadata": {},
     "execution_count": 20
    }
   ],
   "source": [
    "dicts[0]['file']['ALL_INSTANCES']"
   ]
  },
  {
   "cell_type": "code",
   "execution_count": null,
   "metadata": {},
   "outputs": [],
   "source": []
  },
  {
   "cell_type": "code",
   "execution_count": null,
   "metadata": {},
   "outputs": [],
   "source": []
  },
  {
   "cell_type": "code",
   "execution_count": null,
   "metadata": {},
   "outputs": [],
   "source": []
  },
  {
   "cell_type": "code",
   "execution_count": null,
   "metadata": {},
   "outputs": [],
   "source": []
  },
  {
   "cell_type": "code",
   "execution_count": null,
   "metadata": {},
   "outputs": [],
   "source": []
  },
  {
   "cell_type": "code",
   "execution_count": null,
   "metadata": {},
   "outputs": [],
   "source": []
  },
  {
   "cell_type": "code",
   "execution_count": null,
   "metadata": {},
   "outputs": [],
   "source": []
  }
 ]
}