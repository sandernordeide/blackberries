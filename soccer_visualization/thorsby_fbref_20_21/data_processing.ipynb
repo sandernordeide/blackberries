{
 "metadata": {
  "language_info": {
   "codemirror_mode": {
    "name": "ipython",
    "version": 3
   },
   "file_extension": ".py",
   "mimetype": "text/x-python",
   "name": "python",
   "nbconvert_exporter": "python",
   "pygments_lexer": "ipython3",
   "version": "3.8.5-final"
  },
  "orig_nbformat": 2,
  "kernelspec": {
   "name": "python3",
   "display_name": "Python 3",
   "language": "python"
  }
 },
 "nbformat": 4,
 "nbformat_minor": 2,
 "cells": [
  {
   "cell_type": "code",
   "execution_count": 2,
   "metadata": {},
   "outputs": [],
   "source": [
    "import pandas as pd\n",
    "import plotly"
   ]
  },
  {
   "cell_type": "code",
   "execution_count": 3,
   "metadata": {},
   "outputs": [],
   "source": [
    "summary = pd.read_csv('thorsby_summary.csv', header=1, index_col=0)"
   ]
  },
  {
   "cell_type": "code",
   "execution_count": 7,
   "metadata": {},
   "outputs": [
    {
     "output_type": "execute_result",
     "data": {
      "text/plain": [
       "<bound method DataFrame.notnull of             Day                 Comp         Round Venue  Result      Squad  \\\n",
       "Date                                                                          \n",
       "2020-09-04  Fri  UEFA Nations League      League B  Home   L 1–2  no Norway   \n",
       "2020-09-20  Sun              Serie A   Matchweek 1  Away   L 0–3  Sampdoria   \n",
       "2020-09-26  Sat              Serie A   Matchweek 2  Home   L 2–3  Sampdoria   \n",
       "2020-10-02  Fri              Serie A   Matchweek 3  Away   W 2–1  Sampdoria   \n",
       "2020-10-08  Thu      Euro Qualifying   Semi-finals  Home   L 1–2  no Norway   \n",
       "2020-10-17  Sat              Serie A   Matchweek 4  Home   W 3–0  Sampdoria   \n",
       "2020-10-24  Sat              Serie A   Matchweek 5  Away   W 3–1  Sampdoria   \n",
       "2020-10-27  Tue         Coppa Italia   Third round  Home   W 1–0  Sampdoria   \n",
       "2020-11-01  Sun              Serie A   Matchweek 6  Home   D 1–1  Sampdoria   \n",
       "2020-11-07  Sat              Serie A   Matchweek 7  Away   L 0–2  Sampdoria   \n",
       "2020-11-22  Sun              Serie A   Matchweek 8  Home   L 1–2  Sampdoria   \n",
       "2020-11-26  Thu         Coppa Italia   Round of 16  Home   L 1–3  Sampdoria   \n",
       "2020-11-30  Mon              Serie A   Matchweek 9  Away   D 2–2  Sampdoria   \n",
       "2020-12-06  Sun              Serie A  Matchweek 10  Home   L 1–2  Sampdoria   \n",
       "2020-12-13  Sun              Serie A  Matchweek 11  Away   L 1–2  Sampdoria   \n",
       "NaN         NaN                  NaN           NaN   NaN     NaN        NaN   \n",
       "2020-12-19  Sat              Serie A  Matchweek 13  Home   W 3–1  Sampdoria   \n",
       "2020-12-23  Wed              Serie A  Matchweek 14  Home   L 2–3  Sampdoria   \n",
       "2021-01-03  Sun              Serie A  Matchweek 15  Away   L 0–1  Sampdoria   \n",
       "NaN         NaN                  NaN           NaN   NaN  5-2-11        NaN   \n",
       "\n",
       "               Opponent  Start   Pos     Min  ...  GCA    Cmp    Att  Cmp%  \\\n",
       "Date                                          ...                            \n",
       "2020-09-04   at Austria      Y    LM    59.0  ...  NaN    NaN    NaN   NaN   \n",
       "2020-09-20     Juventus      Y  CMRM    69.0  ...  0.0   19.0   21.0  90.5   \n",
       "2020-09-26    Benevento      N    DM    32.0  ...  0.0   12.0   20.0  60.0   \n",
       "2020-10-02   Fiorentina      Y    DM    90.0  ...  0.0   22.0   34.0  64.7   \n",
       "2020-10-08    rs Serbia      N   NaN     5.0  ...  NaN    NaN    NaN   NaN   \n",
       "2020-10-17        Lazio      Y    DM    90.0  ...  0.0   33.0   41.0  80.5   \n",
       "2020-10-24     Atalanta      Y    CM    90.0  ...  1.0   17.0   21.0  81.0   \n",
       "2020-10-27  Salernitana      N   NaN    27.0  ...  NaN    NaN    NaN   NaN   \n",
       "2020-11-01        Genoa      Y    DM    90.0  ...  0.0   37.0   41.0  90.2   \n",
       "2020-11-07     Cagliari      Y    DM    90.0  ...  0.0   22.0   30.0  73.3   \n",
       "2020-11-22      Bologna      Y    CM    90.0  ...  0.0   22.0   35.0  62.9   \n",
       "2020-11-26        Genoa      Y   NaN    90.0  ...  NaN    NaN    NaN   NaN   \n",
       "2020-11-30       Torino      Y    DM    90.0  ...  0.0   23.0   32.0  71.9   \n",
       "2020-12-06        Milan      Y    CM    90.0  ...  0.0   13.0   23.0  56.5   \n",
       "2020-12-13       Napoli      Y    CM    90.0  ...  0.0   24.0   30.0  80.0   \n",
       "NaN                 NaN    NaN   NaN     NaN  ...  NaN    NaN    NaN   NaN   \n",
       "2020-12-19      Crotone      N    RB    83.0  ...  0.0   40.0   51.0  78.4   \n",
       "2020-12-23     Sassuolo      Y    DM    36.0  ...  0.0   10.0   13.0  76.9   \n",
       "2021-01-03         Roma      Y    CM    90.0  ...  0.0   15.0   29.0  51.7   \n",
       "NaN                 NaN  14/18   NaN  1301.0  ...  1.0  309.0  421.0  73.4   \n",
       "\n",
       "            PrgDist  Carries  PrgDist.1  Succ  Att.1  Match Report  \n",
       "Date                                                                \n",
       "2020-09-04      NaN      NaN        NaN   NaN    NaN  Match Report  \n",
       "2020-09-20     98.0     17.0       28.0   1.0    1.0  Match Report  \n",
       "2020-09-26     52.0     13.0       15.0   0.0    0.0  Match Report  \n",
       "2020-10-02    146.0     19.0       62.0   0.0    0.0  Match Report  \n",
       "2020-10-08      NaN      NaN        NaN   NaN    NaN  Match Report  \n",
       "2020-10-17    147.0     30.0       37.0   1.0    1.0  Match Report  \n",
       "2020-10-24     80.0     16.0       28.0   0.0    0.0  Match Report  \n",
       "2020-10-27      NaN      NaN        NaN   NaN    NaN  Match Report  \n",
       "2020-11-01    227.0     32.0       71.0   0.0    1.0  Match Report  \n",
       "2020-11-07    118.0     27.0       52.0   2.0    2.0  Match Report  \n",
       "2020-11-22    134.0     14.0       48.0   0.0    1.0  Match Report  \n",
       "2020-11-26      NaN      NaN        NaN   NaN    NaN  Match Report  \n",
       "2020-11-30    152.0     19.0       54.0   0.0    1.0  Match Report  \n",
       "2020-12-06     62.0     14.0       28.0   1.0    1.0  Match Report  \n",
       "2020-12-13    119.0     18.0       56.0   0.0    0.0  Match Report  \n",
       "NaN             NaN      NaN        NaN   NaN    NaN           NaN  \n",
       "2020-12-19    413.0     29.0      112.0   1.0    1.0  Match Report  \n",
       "2020-12-23     40.0      6.0       26.0   0.0    0.0  Match Report  \n",
       "2021-01-03     31.0     14.0       29.0   2.0    2.0  Match Report  \n",
       "NaN          1819.0    268.0      646.0   8.0   11.0           NaN  \n",
       "\n",
       "[20 rows x 37 columns]>"
      ]
     },
     "metadata": {},
     "execution_count": 7
    }
   ],
   "source": [
    "summary"
   ]
  },
  {
   "cell_type": "code",
   "execution_count": null,
   "metadata": {},
   "outputs": [],
   "source": []
  }
 ]
}