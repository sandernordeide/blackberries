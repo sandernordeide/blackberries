{
 "metadata": {
  "language_info": {
   "codemirror_mode": {
    "name": "ipython",
    "version": 3
   },
   "file_extension": ".py",
   "mimetype": "text/x-python",
   "name": "python",
   "nbconvert_exporter": "python",
   "pygments_lexer": "ipython3",
   "version": "3.6.12-final"
  },
  "orig_nbformat": 2,
  "kernelspec": {
   "name": "Python 3.6.12 64-bit ('soccer': conda)",
   "display_name": "Python 3.6.12 64-bit ('soccer': conda)",
   "metadata": {
    "interpreter": {
     "hash": "12230d4d5a8777d498f2d547013d4cb5d6db3e70e2a0d8a7f2472e8e71af1ff0"
    }
   }
  }
 },
 "nbformat": 4,
 "nbformat_minor": 2,
 "cells": [
  {
   "cell_type": "code",
   "execution_count": 1,
   "metadata": {},
   "outputs": [],
   "source": [
    "import pandas as pd"
   ]
  },
  {
   "cell_type": "code",
   "execution_count": 12,
   "metadata": {
    "tags": []
   },
   "outputs": [
    {
     "output_type": "stream",
     "name": "stdout",
     "text": ".DS_Store\n.DS_Store\n.DS_Store\n.DS_Store\n.DS_Store\n.DS_Store\n.DS_Store\n"
    }
   ],
   "source": [
    "competitions = pd.read_json('/Users/sandernordeide/ext_repos/open-data/data/competitions.json')\n",
    "import os\n",
    "for _, subDirList, fileList in os.walk('/Users/sandernordeide/ext_repos/open-data/data/matches'):\n",
    "    for subDir in subDirList:\n",
    "        for _, subsubDirList in os.walk('/Users/sandernordeide/ext_repos/open-data/data/matches/' + subDir):\n",
    "            \n",
    "                \n",
    "                "
   ]
  },
  {
   "cell_type": "code",
   "execution_count": 3,
   "metadata": {},
   "outputs": [
    {
     "output_type": "execute_result",
     "data": {
      "text/plain": "  competition_gender  competition_id  competition_name country_name  \\\n0               male              16  Champions League       Europe   \n1               male              16  Champions League       Europe   \n2               male              16  Champions League       Europe   \n3               male              16  Champions League       Europe   \n4               male              16  Champions League       Europe   \n\n    match_available               match_updated  season_id season_name  \n0  2020-07-29T05:00            2020-07-29T05:00          4   2018/2019  \n1  2020-07-29T05:00            2020-07-29T05:00          1   2017/2018  \n2  2020-07-29T05:00  2020-08-26T12:33:15.869622          2   2016/2017  \n3  2020-07-29T05:00  2020-08-26T12:33:15.869622         27   2015/2016  \n4  2020-07-29T05:00  2020-08-26T12:33:15.869622         26   2014/2015  ",
      "text/html": "<div>\n<style>\n    .dataframe thead tr:only-child th {\n        text-align: right;\n    }\n\n    .dataframe thead th {\n        text-align: left;\n    }\n\n    .dataframe tbody tr th {\n        vertical-align: top;\n    }\n</style>\n<table border=\"1\" class=\"dataframe\">\n  <thead>\n    <tr style=\"text-align: right;\">\n      <th></th>\n      <th>competition_gender</th>\n      <th>competition_id</th>\n      <th>competition_name</th>\n      <th>country_name</th>\n      <th>match_available</th>\n      <th>match_updated</th>\n      <th>season_id</th>\n      <th>season_name</th>\n    </tr>\n  </thead>\n  <tbody>\n    <tr>\n      <th>0</th>\n      <td>male</td>\n      <td>16</td>\n      <td>Champions League</td>\n      <td>Europe</td>\n      <td>2020-07-29T05:00</td>\n      <td>2020-07-29T05:00</td>\n      <td>4</td>\n      <td>2018/2019</td>\n    </tr>\n    <tr>\n      <th>1</th>\n      <td>male</td>\n      <td>16</td>\n      <td>Champions League</td>\n      <td>Europe</td>\n      <td>2020-07-29T05:00</td>\n      <td>2020-07-29T05:00</td>\n      <td>1</td>\n      <td>2017/2018</td>\n    </tr>\n    <tr>\n      <th>2</th>\n      <td>male</td>\n      <td>16</td>\n      <td>Champions League</td>\n      <td>Europe</td>\n      <td>2020-07-29T05:00</td>\n      <td>2020-08-26T12:33:15.869622</td>\n      <td>2</td>\n      <td>2016/2017</td>\n    </tr>\n    <tr>\n      <th>3</th>\n      <td>male</td>\n      <td>16</td>\n      <td>Champions League</td>\n      <td>Europe</td>\n      <td>2020-07-29T05:00</td>\n      <td>2020-08-26T12:33:15.869622</td>\n      <td>27</td>\n      <td>2015/2016</td>\n    </tr>\n    <tr>\n      <th>4</th>\n      <td>male</td>\n      <td>16</td>\n      <td>Champions League</td>\n      <td>Europe</td>\n      <td>2020-07-29T05:00</td>\n      <td>2020-08-26T12:33:15.869622</td>\n      <td>26</td>\n      <td>2014/2015</td>\n    </tr>\n  </tbody>\n</table>\n</div>"
     },
     "metadata": {},
     "execution_count": 3
    }
   ],
   "source": [
    "df.head()"
   ]
  },
  {
   "cell_type": "code",
   "execution_count": null,
   "metadata": {},
   "outputs": [],
   "source": []
  }
 ]
}