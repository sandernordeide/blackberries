{
 "cells": [
  {
   "cell_type": "code",
   "execution_count": 4,
   "metadata": {},
   "outputs": [],
   "source": [
    "import pandas as pd\n",
    "import os\n",
    "path = os.getcwd() + \"/data/tromso/2013-11-03_tromso_stromsgodset_raw_first.csv\"\n",
    "first_half = pd.read_csv(path)"
   ]
  },
  {
   "cell_type": "code",
   "execution_count": 5,
   "metadata": {},
   "outputs": [
    {
     "output_type": "execute_result",
     "data": {
      "text/plain": "   2013-11-03 18:01:09.002174   9  32.2538  12.7243   0.23475         0  \\\n0  2013-11-03 18:01:09.006261  13  21.1081  17.6180  1.413400  1.741270   \n1  2013-11-03 18:01:09.007529  14  28.5255  17.5359  1.640910 -3.038100   \n2  2013-11-03 18:01:09.027034  10  45.2474  14.4618  1.129020  0.000000   \n3  2013-11-03 18:01:09.028946   8  28.5504  39.5494  0.927515  2.527040   \n4  2013-11-03 18:01:09.030682   5  35.5428  30.3117  1.040150 -0.170872   \n\n    254.04       0.1  329.554  \n0  202.250  0.907549  241.842  \n1  190.648  0.572368  241.965  \n2  342.244  0.000000  349.529  \n3  304.319  1.060790  250.349  \n4  364.374  0.644301  297.906  ",
      "text/html": "<div>\n<style scoped>\n    .dataframe tbody tr th:only-of-type {\n        vertical-align: middle;\n    }\n\n    .dataframe tbody tr th {\n        vertical-align: top;\n    }\n\n    .dataframe thead th {\n        text-align: right;\n    }\n</style>\n<table border=\"1\" class=\"dataframe\">\n  <thead>\n    <tr style=\"text-align: right;\">\n      <th></th>\n      <th>2013-11-03 18:01:09.002174</th>\n      <th>9</th>\n      <th>32.2538</th>\n      <th>12.7243</th>\n      <th>0.23475</th>\n      <th>0</th>\n      <th>254.04</th>\n      <th>0.1</th>\n      <th>329.554</th>\n    </tr>\n  </thead>\n  <tbody>\n    <tr>\n      <th>0</th>\n      <td>2013-11-03 18:01:09.006261</td>\n      <td>13</td>\n      <td>21.1081</td>\n      <td>17.6180</td>\n      <td>1.413400</td>\n      <td>1.741270</td>\n      <td>202.250</td>\n      <td>0.907549</td>\n      <td>241.842</td>\n    </tr>\n    <tr>\n      <th>1</th>\n      <td>2013-11-03 18:01:09.007529</td>\n      <td>14</td>\n      <td>28.5255</td>\n      <td>17.5359</td>\n      <td>1.640910</td>\n      <td>-3.038100</td>\n      <td>190.648</td>\n      <td>0.572368</td>\n      <td>241.965</td>\n    </tr>\n    <tr>\n      <th>2</th>\n      <td>2013-11-03 18:01:09.027034</td>\n      <td>10</td>\n      <td>45.2474</td>\n      <td>14.4618</td>\n      <td>1.129020</td>\n      <td>0.000000</td>\n      <td>342.244</td>\n      <td>0.000000</td>\n      <td>349.529</td>\n    </tr>\n    <tr>\n      <th>3</th>\n      <td>2013-11-03 18:01:09.028946</td>\n      <td>8</td>\n      <td>28.5504</td>\n      <td>39.5494</td>\n      <td>0.927515</td>\n      <td>2.527040</td>\n      <td>304.319</td>\n      <td>1.060790</td>\n      <td>250.349</td>\n    </tr>\n    <tr>\n      <th>4</th>\n      <td>2013-11-03 18:01:09.030682</td>\n      <td>5</td>\n      <td>35.5428</td>\n      <td>30.3117</td>\n      <td>1.040150</td>\n      <td>-0.170872</td>\n      <td>364.374</td>\n      <td>0.644301</td>\n      <td>297.906</td>\n    </tr>\n  </tbody>\n</table>\n</div>"
     },
     "metadata": {},
     "execution_count": 5
    }
   ],
   "source": [
    "first_half.head()"
   ]
  },
  {
   "cell_type": "code",
   "execution_count": 6,
   "metadata": {},
   "outputs": [
    {
     "output_type": "execute_result",
     "data": {
      "text/plain": "   2013-11-03 18:01:09.002174   9  32.2538  12.7243   0.23475         0  \\\n0  2013-11-03 18:01:09.006261  13  21.1081  17.6180  1.413400  1.741270   \n1  2013-11-03 18:01:09.007529  14  28.5255  17.5359  1.640910 -3.038100   \n2  2013-11-03 18:01:09.027034  10  45.2474  14.4618  1.129020  0.000000   \n3  2013-11-03 18:01:09.028946   8  28.5504  39.5494  0.927515  2.527040   \n4  2013-11-03 18:01:09.030682   5  35.5428  30.3117  1.040150 -0.170872   \n\n    254.04       0.1  329.554  \n0  202.250  0.907549  241.842  \n1  190.648  0.572368  241.965  \n2  342.244  0.000000  349.529  \n3  304.319  1.060790  250.349  \n4  364.374  0.644301  297.906  ",
      "text/html": "<div>\n<style scoped>\n    .dataframe tbody tr th:only-of-type {\n        vertical-align: middle;\n    }\n\n    .dataframe tbody tr th {\n        vertical-align: top;\n    }\n\n    .dataframe thead th {\n        text-align: right;\n    }\n</style>\n<table border=\"1\" class=\"dataframe\">\n  <thead>\n    <tr style=\"text-align: right;\">\n      <th></th>\n      <th>2013-11-03 18:01:09.002174</th>\n      <th>9</th>\n      <th>32.2538</th>\n      <th>12.7243</th>\n      <th>0.23475</th>\n      <th>0</th>\n      <th>254.04</th>\n      <th>0.1</th>\n      <th>329.554</th>\n    </tr>\n  </thead>\n  <tbody>\n    <tr>\n      <th>0</th>\n      <td>2013-11-03 18:01:09.006261</td>\n      <td>13</td>\n      <td>21.1081</td>\n      <td>17.6180</td>\n      <td>1.413400</td>\n      <td>1.741270</td>\n      <td>202.250</td>\n      <td>0.907549</td>\n      <td>241.842</td>\n    </tr>\n    <tr>\n      <th>1</th>\n      <td>2013-11-03 18:01:09.007529</td>\n      <td>14</td>\n      <td>28.5255</td>\n      <td>17.5359</td>\n      <td>1.640910</td>\n      <td>-3.038100</td>\n      <td>190.648</td>\n      <td>0.572368</td>\n      <td>241.965</td>\n    </tr>\n    <tr>\n      <th>2</th>\n      <td>2013-11-03 18:01:09.027034</td>\n      <td>10</td>\n      <td>45.2474</td>\n      <td>14.4618</td>\n      <td>1.129020</td>\n      <td>0.000000</td>\n      <td>342.244</td>\n      <td>0.000000</td>\n      <td>349.529</td>\n    </tr>\n    <tr>\n      <th>3</th>\n      <td>2013-11-03 18:01:09.028946</td>\n      <td>8</td>\n      <td>28.5504</td>\n      <td>39.5494</td>\n      <td>0.927515</td>\n      <td>2.527040</td>\n      <td>304.319</td>\n      <td>1.060790</td>\n      <td>250.349</td>\n    </tr>\n    <tr>\n      <th>4</th>\n      <td>2013-11-03 18:01:09.030682</td>\n      <td>5</td>\n      <td>35.5428</td>\n      <td>30.3117</td>\n      <td>1.040150</td>\n      <td>-0.170872</td>\n      <td>364.374</td>\n      <td>0.644301</td>\n      <td>297.906</td>\n    </tr>\n  </tbody>\n</table>\n</div>"
     },
     "metadata": {},
     "execution_count": 6
    }
   ],
   "source": [
    "first_half.head()"
   ]
  },
  {
   "cell_type": "code",
   "execution_count": null,
   "metadata": {},
   "outputs": [],
   "source": []
  },
  {
   "cell_type": "code",
   "execution_count": null,
   "metadata": {},
   "outputs": [],
   "source": []
  }
 ],
 "metadata": {
  "kernelspec": {
   "display_name": "Python 3.7.6 64-bit ('base': conda)",
   "language": "python",
   "name": "python_defaultSpec_1599764877521"
  },
  "language_info": {
   "codemirror_mode": {
    "name": "ipython",
    "version": 3
   },
   "file_extension": ".py",
   "mimetype": "text/x-python",
   "name": "python",
   "nbconvert_exporter": "python",
   "pygments_lexer": "ipython3",
   "version": "3.7.6-final"
  }
 },
 "nbformat": 4,
 "nbformat_minor": 4
}