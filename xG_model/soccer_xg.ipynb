{
 "metadata": {
  "language_info": {
   "codemirror_mode": {
    "name": "ipython",
    "version": 3
   },
   "file_extension": ".py",
   "mimetype": "text/x-python",
   "name": "python",
   "nbconvert_exporter": "python",
   "pygments_lexer": "ipython3",
   "version": "3.8.5-final"
  },
  "orig_nbformat": 2,
  "kernelspec": {
   "name": "python3",
   "display_name": "Python 3",
   "language": "python"
  }
 },
 "nbformat": 4,
 "nbformat_minor": 2,
 "cells": [
  {
   "cell_type": "code",
   "execution_count": 6,
   "metadata": {},
   "outputs": [
    {
     "output_type": "error",
     "ename": "ValueError",
     "evalue": "A database `data/wyscout_opensource/spadl-wyscout_opensource-FRA-1718.h5` does not exist.",
     "traceback": [
      "\u001b[0;31m---------------------------------------------------------------------------\u001b[0m",
      "\u001b[0;31mValueError\u001b[0m                                Traceback (most recent call last)",
      "\u001b[0;32m<ipython-input-6-95d078f40c94>\u001b[0m in \u001b[0;36m<module>\u001b[0;34m\u001b[0m\n\u001b[1;32m      6\u001b[0m \u001b[0mleagues\u001b[0m \u001b[0;34m=\u001b[0m \u001b[0;34m[\u001b[0m\u001b[0;34m'ENG'\u001b[0m\u001b[0;34m,\u001b[0m \u001b[0;34m'ESP'\u001b[0m\u001b[0;34m,\u001b[0m \u001b[0;34m'ITA'\u001b[0m\u001b[0;34m,\u001b[0m \u001b[0;34m'GER'\u001b[0m\u001b[0;34m,\u001b[0m \u001b[0;34m'FRA'\u001b[0m\u001b[0;34m]\u001b[0m\u001b[0;34m\u001b[0m\u001b[0;34m\u001b[0m\u001b[0m\n\u001b[1;32m      7\u001b[0m \u001b[0mseasons\u001b[0m \u001b[0;34m=\u001b[0m \u001b[0;34m[\u001b[0m\u001b[0;34m'1718'\u001b[0m\u001b[0;34m]\u001b[0m\u001b[0;34m\u001b[0m\u001b[0;34m\u001b[0m\u001b[0m\n\u001b[0;32m----> 8\u001b[0;31m api = DataApi([f\"data/{provider}/spadl-{provider}-{l}-{s}.h5\" \n\u001b[0m\u001b[1;32m      9\u001b[0m         for (l,s) in product(leagues, seasons)])\n\u001b[1;32m     10\u001b[0m \u001b[0;31m# load the default pipeline\u001b[0m\u001b[0;34m\u001b[0m\u001b[0;34m\u001b[0m\u001b[0;34m\u001b[0m\u001b[0m\n",
      "\u001b[0;32m~/anaconda3/lib/python3.8/site-packages/soccer_xg/api.py\u001b[0m in \u001b[0;36m__init__\u001b[0;34m(self, db_path)\u001b[0m\n\u001b[1;32m     47\u001b[0m         \u001b[0;32mfor\u001b[0m \u001b[0mp\u001b[0m \u001b[0;32min\u001b[0m \u001b[0mself\u001b[0m\u001b[0;34m.\u001b[0m\u001b[0mdb_path\u001b[0m\u001b[0;34m:\u001b[0m\u001b[0;34m\u001b[0m\u001b[0;34m\u001b[0m\u001b[0m\n\u001b[1;32m     48\u001b[0m             \u001b[0;32mif\u001b[0m \u001b[0;32mnot\u001b[0m \u001b[0mos\u001b[0m\u001b[0;34m.\u001b[0m\u001b[0mpath\u001b[0m\u001b[0;34m.\u001b[0m\u001b[0mexists\u001b[0m\u001b[0;34m(\u001b[0m\u001b[0mp\u001b[0m\u001b[0;34m)\u001b[0m\u001b[0;34m:\u001b[0m\u001b[0;34m\u001b[0m\u001b[0;34m\u001b[0m\u001b[0m\n\u001b[0;32m---> 49\u001b[0;31m                 raise ValueError(\n\u001b[0m\u001b[1;32m     50\u001b[0m                     \u001b[0;34m'A database `{}` does not exist.'\u001b[0m\u001b[0;34m.\u001b[0m\u001b[0mformat\u001b[0m\u001b[0;34m(\u001b[0m\u001b[0mstr\u001b[0m\u001b[0;34m(\u001b[0m\u001b[0mp\u001b[0m\u001b[0;34m)\u001b[0m\u001b[0;34m)\u001b[0m\u001b[0;34m\u001b[0m\u001b[0;34m\u001b[0m\u001b[0m\n\u001b[1;32m     51\u001b[0m                 )\n",
      "\u001b[0;31mValueError\u001b[0m: A database `data/wyscout_opensource/spadl-wyscout_opensource-FRA-1718.h5` does not exist."
     ]
    }
   ],
   "source": [
    "from itertools import product\n",
    "from soccer_xg import XGModel, DataApi\n",
    "\n",
    "# load the data\n",
    "provider = 'wyscout_opensource'\n",
    "leagues = ['ENG', 'ESP', 'ITA', 'GER', 'FRA']\n",
    "seasons = ['1718']\n",
    "api = DataApi([f\"data/{provider}/spadl-{provider}-{l}-{s}.h5\" \n",
    "        for (l,s) in product(leagues, seasons)])\n",
    "# load the default pipeline\n",
    "model = XGModel()\n",
    "# train the model\n",
    "model.train(api, training_seasons=[('ESP', '1718'), ('ITA', '1718'), ('GER', '1718')])\n",
    "# validate the model\n",
    "model.validate(api, validation_seasons=[('ENG', '1718')])\n",
    "# predict xG values\n",
    "model.estimate(api, game_ids=[2500098])"
   ]
  },
  {
   "cell_type": "code",
   "execution_count": 4,
   "metadata": {},
   "outputs": [],
   "source": [
    "xg_logreg = XGModel.load_model('openplay_logreg_basic')\n",
    "xg_boost = XGModel.load_model('openplay_xgboost_basic')\n",
    "xg_logreg_advanced = XGModel.load_model('openplay_logreg_advanced')\n",
    "xg_boost_advanced = XGModel.load_model('openplay_xgboost_advanced')"
   ]
  },
  {
   "cell_type": "code",
   "execution_count": 7,
   "metadata": {},
   "outputs": [
    {
     "output_type": "execute_result",
     "data": {
      "text/plain": [
       "['__call__',\n",
       " '__class__',\n",
       " '__delattr__',\n",
       " '__dir__',\n",
       " '__doc__',\n",
       " '__eq__',\n",
       " '__format__',\n",
       " '__func__',\n",
       " '__ge__',\n",
       " '__get__',\n",
       " '__getattribute__',\n",
       " '__gt__',\n",
       " '__hash__',\n",
       " '__init__',\n",
       " '__init_subclass__',\n",
       " '__le__',\n",
       " '__lt__',\n",
       " '__ne__',\n",
       " '__new__',\n",
       " '__reduce__',\n",
       " '__reduce_ex__',\n",
       " '__repr__',\n",
       " '__self__',\n",
       " '__setattr__',\n",
       " '__sizeof__',\n",
       " '__str__',\n",
       " '__subclasshook__']"
      ]
     },
     "metadata": {},
     "execution_count": 7
    }
   ],
   "source": [
    "xg_logreg.estimate()"
   ]
  },
  {
   "cell_type": "code",
   "execution_count": null,
   "metadata": {},
   "outputs": [],
   "source": []
  }
 ]
}