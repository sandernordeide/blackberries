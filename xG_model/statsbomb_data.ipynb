{
 "metadata": {
  "language_info": {
   "codemirror_mode": {
    "name": "ipython",
    "version": 3
   },
   "file_extension": ".py",
   "mimetype": "text/x-python",
   "name": "python",
   "nbconvert_exporter": "python",
   "pygments_lexer": "ipython3",
   "version": "3.8.5-final"
  },
  "orig_nbformat": 2,
  "kernelspec": {
   "name": "python3",
   "display_name": "Python 3",
   "language": "python"
  }
 },
 "nbformat": 4,
 "nbformat_minor": 2,
 "cells": [
  {
   "cell_type": "code",
   "execution_count": 2,
   "metadata": {},
   "outputs": [],
   "source": [
    "import pandas as pd"
   ]
  },
  {
   "cell_type": "code",
   "execution_count": 3,
   "metadata": {},
   "outputs": [],
   "source": [
    "competitions = pd.read_json('data/competitions.json')\n",
    "wanted_competitions = [37, 49]\n",
    "\n",
    "competition_season_pairs = []\n",
    "for competition_id in wanted_competitions:\n",
    "    for season_id in competitions[competitions['competition_id'] == competition_id]['season_id']:\n",
    "        competition_season_pairs.append((competition_id, season_id))"
   ]
  },
  {
   "cell_type": "code",
   "execution_count": 7,
   "metadata": {},
   "outputs": [],
   "source": [
    "import os \n",
    "origin_path = os.getcwd()\n",
    "\n",
    "for cs_pair in competition_season_pairs: # cs_pair is pairs of (competition_id, season_id)\n",
    "    cid = cs_pair[0] # competition id\n",
    "    sid = cs_pair[1] # season id\n",
    "    exec(f\"competition{cid}_season{sid}_matches = pd.read_json('data/matches/{cid}/{sid}.json')\")"
   ]
  },
  {
   "cell_type": "code",
   "execution_count": 23,
   "metadata": {},
   "outputs": [],
   "source": [
    "events = {}\n",
    "for mid in competition37_season42_matches['match_id']: # mid is match id\n",
    "    exec(f\"events[{mid}] = pd.read_json('data/events/{mid}.json')\")"
   ]
  },
  {
   "cell_type": "code",
   "execution_count": 86,
   "metadata": {
    "tags": []
   },
   "outputs": [],
   "source": [
    "shot_events = pd.DataFrame()\n",
    "for mid in events.keys(): #mid is match id\n",
    "    temp_column = events[mid][\"type\"].apply(pd.Series)\n",
    "    match_shot_indices = temp_column[temp_column.name == \"Shot\"].index\n",
    "    match_shots = events[mid].iloc[match_shot_indices,:]\n",
    "    if shot_events.empty:\n",
    "        shot_events = match_shots\n",
    "    else:\n",
    "        shot_events = shot_events.append(match_shots, ignore_index=True)"
   ]
  },
  {
   "cell_type": "code",
   "execution_count": 111,
   "metadata": {
    "tags": []
   },
   "outputs": [
    {
     "output_type": "stream",
     "name": "stdout",
     "text": [
      "  one_on_one  statsbomb_xg        end_location  \\\n0       True      0.188629  [120.0, 28.1, 0.2]   \n1        NaN      0.007220  [117.8, 42.1, 0.2]   \n2        NaN      0.120339  [120.0, 38.6, 4.9]   \n3        NaN      0.370383  [120.0, 45.1, 0.2]   \n4        NaN      0.011415  [120.0, 45.0, 4.5]   \n\n                            key_pass_id                     technique  \\\n0  a4a1c64d-7b27-4e34-a425-8f36f065edbc  {'id': 93, 'name': 'Normal'}   \n1                                   NaN  {'id': 93, 'name': 'Normal'}   \n2  2b292e0f-8483-4df3-b79b-a6070f3f413b  {'id': 93, 'name': 'Normal'}   \n3  38495173-1ce8-4103-8366-30bfe9f6b5b7  {'id': 93, 'name': 'Normal'}   \n4  1e9d1e70-03ac-4aa3-a59c-1851dacea7ac  {'id': 93, 'name': 'Normal'}   \n\n                          body_part                             type  \\\n0  {'id': 40, 'name': 'Right Foot'}  {'id': 87, 'name': 'Open Play'}   \n1  {'id': 40, 'name': 'Right Foot'}  {'id': 87, 'name': 'Open Play'}   \n2        {'id': 37, 'name': 'Head'}  {'id': 87, 'name': 'Open Play'}   \n3   {'id': 38, 'name': 'Left Foot'}  {'id': 87, 'name': 'Open Play'}   \n4   {'id': 38, 'name': 'Left Foot'}  {'id': 87, 'name': 'Open Play'}   \n\n                        outcome  \\\n0   {'id': 98, 'name': 'Off T'}   \n1  {'id': 100, 'name': 'Saved'}   \n2   {'id': 98, 'name': 'Off T'}   \n3   {'id': 98, 'name': 'Off T'}   \n4   {'id': 98, 'name': 'Off T'}   \n\n                                        freeze_frame follows_dribble  \\\n0  [{'location': [115.9, 42.7], 'player': {'id': ...             NaN   \n1  [{'location': [82.8, 54.0], 'player': {'id': 1...             NaN   \n2  [{'location': [101.6, 41.7], 'player': {'id': ...             NaN   \n3  [{'location': [112.6, 52.3], 'player': {'id': ...            True   \n4  [{'location': [103.1, 42.1], 'player': {'id': ...             NaN   \n\n  first_time deflected aerial_won open_goal saved_off_target saved_to_post  \\\n0        NaN       NaN        NaN       NaN              NaN           NaN   \n1        NaN       NaN        NaN       NaN              NaN           NaN   \n2        NaN       NaN        NaN       NaN              NaN           NaN   \n3        NaN       NaN        NaN       NaN              NaN           NaN   \n4        NaN       NaN        NaN       NaN              NaN           NaN   \n\n  redirect  \n0      NaN  \n1      NaN  \n2      NaN  \n3      NaN  \n4      NaN  \n"
     ]
    }
   ],
   "source": [
    "for column in shot_events.columns:\n",
    "    temp_column = shot_events[f\"{column}\"].apply(pd.Series)\n",
    "    if f\"{column}\" == \"shot\":\n",
    "        print(temp_column.head())\n",
    "\n",
    "#temp_column = shot_events[\"type\"].apply(pd.Series)\n",
    "#shot_events.head()"
   ]
  },
  {
   "cell_type": "code",
   "execution_count": 106,
   "metadata": {},
   "outputs": [
    {
     "output_type": "execute_result",
     "data": {
      "text/plain": [
       "2"
      ]
     },
     "metadata": {},
     "execution_count": 106
    }
   ],
   "source": [
    "len(temp_column.columns)"
   ]
  },
  {
   "cell_type": "code",
   "execution_count": 92,
   "metadata": {},
   "outputs": [
    {
     "output_type": "stream",
     "name": "stdout",
     "text": [
      "<class 'pandas.core.frame.DataFrame'>\nRangeIndex: 2223 entries, 0 to 2222\nData columns (total 41 columns):\n #   Column           Non-Null Count  Dtype         \n---  ------           --------------  -----         \n 0   id               2223 non-null   object        \n 1   index            2223 non-null   int64         \n 2   period           2223 non-null   int64         \n 3   timestamp        2223 non-null   datetime64[ns]\n 4   minute           2223 non-null   int64         \n 5   second           2223 non-null   int64         \n 6   type             2223 non-null   object        \n 7   possession       2223 non-null   int64         \n 8   possession_team  2223 non-null   object        \n 9   play_pattern     2223 non-null   object        \n 10  team             2223 non-null   object        \n 11  duration         2223 non-null   float64       \n 12  tactics          0 non-null      object        \n 13  related_events   2223 non-null   object        \n 14  player           2223 non-null   object        \n 15  position         2223 non-null   object        \n 16  location         2223 non-null   object        \n 17  pass             0 non-null      object        \n 18  carry            0 non-null      object        \n 19  under_pressure   460 non-null    float64       \n 20  ball_receipt     0 non-null      object        \n 21  counterpress     0 non-null      float64       \n 22  duel             0 non-null      object        \n 23  out              38 non-null     float64       \n 24  clearance        0 non-null      object        \n 25  dribble          0 non-null      object        \n 26  miscontrol       0 non-null      object        \n 27  off_camera       8 non-null      float64       \n 28  shot             2223 non-null   object        \n 29  goalkeeper       0 non-null      object        \n 30  ball_recovery    0 non-null      object        \n 31  interception     0 non-null      object        \n 32  foul_won         0 non-null      object        \n 33  block            0 non-null      object        \n 34  foul_committed   0 non-null      object        \n 35  substitution     0 non-null      object        \n 36  injury_stoppage  0 non-null      object        \n 37  bad_behaviour    0 non-null      object        \n 38  50_50            0 non-null      object        \n 39  half_start       0 non-null      object        \n 40  half_end         0 non-null      object        \ndtypes: datetime64[ns](1), float64(5), int64(5), object(30)\nmemory usage: 712.2+ KB\n"
     ]
    }
   ],
   "source": [
    "shot_events.info()"
   ]
  },
  {
   "cell_type": "code",
   "execution_count": 26,
   "metadata": {},
   "outputs": [],
   "source": [
    "training_frame = shot_events"
   ]
  },
  {
   "cell_type": "code",
   "execution_count": 27,
   "metadata": {},
   "outputs": [
    {
     "output_type": "execute_result",
     "data": {
      "text/plain": [
       "      id  name\n",
       "114   16  Shot\n",
       "261   16  Shot\n",
       "641   16  Shot\n",
       "704   16  Shot\n",
       "869   16  Shot\n",
       "953   16  Shot\n",
       "1384  16  Shot\n",
       "1394  16  Shot\n",
       "1522  16  Shot\n",
       "1538  16  Shot\n",
       "1583  16  Shot\n",
       "1669  16  Shot\n",
       "1762  16  Shot\n",
       "1865  16  Shot\n",
       "2030  16  Shot\n",
       "2087  16  Shot\n",
       "2100  16  Shot\n",
       "2166  16  Shot\n",
       "2311  16  Shot\n",
       "2369  16  Shot\n",
       "2673  16  Shot"
      ],
      "text/html": "<div>\n<style scoped>\n    .dataframe tbody tr th:only-of-type {\n        vertical-align: middle;\n    }\n\n    .dataframe tbody tr th {\n        vertical-align: top;\n    }\n\n    .dataframe thead th {\n        text-align: right;\n    }\n</style>\n<table border=\"1\" class=\"dataframe\">\n  <thead>\n    <tr style=\"text-align: right;\">\n      <th></th>\n      <th>id</th>\n      <th>name</th>\n    </tr>\n  </thead>\n  <tbody>\n    <tr>\n      <th>114</th>\n      <td>16</td>\n      <td>Shot</td>\n    </tr>\n    <tr>\n      <th>261</th>\n      <td>16</td>\n      <td>Shot</td>\n    </tr>\n    <tr>\n      <th>641</th>\n      <td>16</td>\n      <td>Shot</td>\n    </tr>\n    <tr>\n      <th>704</th>\n      <td>16</td>\n      <td>Shot</td>\n    </tr>\n    <tr>\n      <th>869</th>\n      <td>16</td>\n      <td>Shot</td>\n    </tr>\n    <tr>\n      <th>953</th>\n      <td>16</td>\n      <td>Shot</td>\n    </tr>\n    <tr>\n      <th>1384</th>\n      <td>16</td>\n      <td>Shot</td>\n    </tr>\n    <tr>\n      <th>1394</th>\n      <td>16</td>\n      <td>Shot</td>\n    </tr>\n    <tr>\n      <th>1522</th>\n      <td>16</td>\n      <td>Shot</td>\n    </tr>\n    <tr>\n      <th>1538</th>\n      <td>16</td>\n      <td>Shot</td>\n    </tr>\n    <tr>\n      <th>1583</th>\n      <td>16</td>\n      <td>Shot</td>\n    </tr>\n    <tr>\n      <th>1669</th>\n      <td>16</td>\n      <td>Shot</td>\n    </tr>\n    <tr>\n      <th>1762</th>\n      <td>16</td>\n      <td>Shot</td>\n    </tr>\n    <tr>\n      <th>1865</th>\n      <td>16</td>\n      <td>Shot</td>\n    </tr>\n    <tr>\n      <th>2030</th>\n      <td>16</td>\n      <td>Shot</td>\n    </tr>\n    <tr>\n      <th>2087</th>\n      <td>16</td>\n      <td>Shot</td>\n    </tr>\n    <tr>\n      <th>2100</th>\n      <td>16</td>\n      <td>Shot</td>\n    </tr>\n    <tr>\n      <th>2166</th>\n      <td>16</td>\n      <td>Shot</td>\n    </tr>\n    <tr>\n      <th>2311</th>\n      <td>16</td>\n      <td>Shot</td>\n    </tr>\n    <tr>\n      <th>2369</th>\n      <td>16</td>\n      <td>Shot</td>\n    </tr>\n    <tr>\n      <th>2673</th>\n      <td>16</td>\n      <td>Shot</td>\n    </tr>\n  </tbody>\n</table>\n</div>"
     },
     "metadata": {},
     "execution_count": 27
    }
   ],
   "source": [
    "shot_rows"
   ]
  },
  {
   "cell_type": "code",
   "execution_count": null,
   "metadata": {},
   "outputs": [],
   "source": []
  }
 ]
}